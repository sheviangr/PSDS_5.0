{
  "nbformat": 4,
  "nbformat_minor": 0,
  "metadata": {
    "colab": {
      "provenance": []
    },
    "kernelspec": {
      "name": "python3",
      "display_name": "Python 3"
    },
    "language_info": {
      "name": "python"
    }
  },
  "cells": [
    {
      "cell_type": "markdown",
      "source": [
        "#Pengenalan Python\n",
        "\n",
        "Python adalah Bahasa pemrograman tingkat tinggi dengan dynamic semantics, bersifat object oriented, dan interpretatif. Bahasa pemrograman ini fokus dikembangkan pada keterbacaanbahasa pemrograman.\n",
        "\n",
        "1. **Bahasa Pemrograman Tingkat Tinggi (High Level Programming)** Artinya sintaks kode lebih mudah ditafsirkan oleh manusia.\n",
        "\n",
        "2. **Interpretatif** Ini artinya bahasa ini memerlukan intrepeter atau penerjemah. Ini memungkinkan kita untuk menggunakan Bahasa yang lebih mudah kita pahami.\n",
        "\n",
        "3. **Object Oriented** Ini berarti bahwa bahasa pemrograman ini berorientasi kepada objek. Hal ini membuat Python lebih mudah untuk dikembangkan.\n",
        "\n",
        "4. **Dynamic Semantic** Python secara otomatis akan menyesuaikan tipe dari suatu variable berdasarkan inputnya."
      ],
      "metadata": {
        "id": "u4yK6vK48a5F"
      }
    },
    {
      "cell_type": "markdown",
      "source": [
        "#Mengapa Python\n",
        "\n",
        "1. Mudah dipahami\n",
        "\n",
        "2. Grafis & Open Source\n",
        "\n",
        "3. Dinamis\n",
        "\n",
        "4. Memiliki Library Terlengkap untuk Data Sains\n"
      ],
      "metadata": {
        "id": "P-k0qr1J_SmW"
      }
    },
    {
      "cell_type": "markdown",
      "source": [
        "#Struktur Program Pada Python\n",
        "\n",
        "Phyton pada umumnya terdiri dari :\n",
        "\n",
        "1. **Statement**"
      ],
      "metadata": {
        "id": "oBzUSuyV_sFa"
      }
    },
    {
      "cell_type": "code",
      "execution_count": 1,
      "metadata": {
        "colab": {
          "base_uri": "https://localhost:8080/"
        },
        "id": "PZWrg0iR8ZiP",
        "outputId": "0b7b6a3d-f602-47e4-d58f-31261453956c"
      },
      "outputs": [
        {
          "output_type": "stream",
          "name": "stdout",
          "text": [
            "belajar Phyton menyenangkan\n",
            "halo dunia\n"
          ]
        }
      ],
      "source": [
        "print(\"belajar Python menyenangkan\")\n",
        "print(\"halo dunia\")"
      ]
    },
    {
      "cell_type": "markdown",
      "source": [
        "2. **Variables**"
      ],
      "metadata": {
        "id": "ob_iGhhh_-bW"
      }
    },
    {
      "cell_type": "code",
      "source": [
        "bilangan1 = 5\n",
        "bilangan2 = 10\n",
        "kalimat = \"Pejuang Data 3\""
      ],
      "metadata": {
        "id": "qQeXLyt2ACRL"
      },
      "execution_count": null,
      "outputs": []
    },
    {
      "cell_type": "markdown",
      "source": [
        "3. **Literals** : Simbol-simbol yang dapat kita gunakan untuk mengisi suatu variable.\n",
        "\n",
        "4. **Operators** : Simbol-simbol yang dapat digunakan untuk mengubah nilai dari\n",
        "satu variable dengan melibatkan satu atau lebih variable dan literal\n"
      ],
      "metadata": {
        "id": "A-RvZg0uAGW4"
      }
    },
    {
      "cell_type": "code",
      "source": [
        "bilangan1 + bilangan2"
      ],
      "metadata": {
        "id": "sfR1KtAbAndQ"
      },
      "execution_count": null,
      "outputs": []
    },
    {
      "cell_type": "markdown",
      "source": [
        "5. **Reserved Words** : Kumpulan kata-kata yang memiliki makna khusus dalam bahasa pemrograman Python. Kata false , return , dan for merupakan contoh dari reserved words.\n",
        "\n",
        "6. **Whitespace** : Pada bahasa Python, spasi dan tab memiliki makna khusus untuk menandai serangkaian blok dalam kode Python.\n",
        "\n",
        "7. **Comments** : Comments merupakan sekumpulan teks yang dituliskan di dalam sebuah program yang tidak akan mempengaruhi hasil dari sebuah pemrograman.\n",
        "\n",
        "Terdapat dua jenis comments di dalam Python, yaitu :\n",
        "\n",
        "a. **single line comment** (comments dalam satu baris) seperti contoh berikut :\n"
      ],
      "metadata": {
        "id": "YyJvriVwArVO"
      }
    },
    {
      "cell_type": "code",
      "source": [
        "# Ini adalah Comment\n",
        "print(\"belajar Python\")"
      ],
      "metadata": {
        "colab": {
          "base_uri": "https://localhost:8080/"
        },
        "id": "EyvyM3gUBTo-",
        "outputId": "7f6514d6-fae9-4860-deda-2cb6e3413990"
      },
      "execution_count": 5,
      "outputs": [
        {
          "output_type": "stream",
          "name": "stdout",
          "text": [
            "belajar Python\n"
          ]
        }
      ]
    },
    {
      "cell_type": "markdown",
      "source": [
        "b. **multi line comment** (comments dalam beberapa baris) yang dapat dilakukan\n",
        "seperti pada contoh berikut :"
      ],
      "metadata": {
        "id": "V1RKOAUVBZ6i"
      }
    },
    {
      "cell_type": "code",
      "source": [
        "'''\n",
        "Ini adalah komentar panjang\n",
        "Bisa digunakan untuk memberikan penjelasan\n",
        "panjang pada Sell Kode Python,\n",
        "Misal dokumentasi program, spesifikasi\n",
        "input output atau lainnya\n",
        "'''\n",
        "print('Belajar Python menyenangkan')"
      ],
      "metadata": {
        "colab": {
          "base_uri": "https://localhost:8080/"
        },
        "id": "Ub57pgC4BgPd",
        "outputId": "80f85bde-3d8b-478f-c449-15488e7330bb"
      },
      "execution_count": 6,
      "outputs": [
        {
          "output_type": "stream",
          "name": "stdout",
          "text": [
            "Belajar Phyton menyenangkan\n"
          ]
        }
      ]
    }
  ]
}