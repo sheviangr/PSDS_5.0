{
  "nbformat": 4,
  "nbformat_minor": 0,
  "metadata": {
    "colab": {
      "provenance": []
    },
    "kernelspec": {
      "name": "python3",
      "display_name": "Python 3"
    },
    "language_info": {
      "name": "python"
    }
  },
  "cells": [
    {
      "cell_type": "markdown",
      "metadata": {
        "id": "x4l4kSLq4p7F"
      },
      "source": [
        "#Function"
      ]
    },
    {
      "cell_type": "markdown",
      "metadata": {
        "id": "rQSjqmxW4_tS"
      },
      "source": [
        "###Argumen dan Parameter"
      ]
    },
    {
      "cell_type": "code",
      "metadata": {
        "id": "V_CLBj4D32NP"
      },
      "source": [
        "def print_nama(nama): # 'nama' adalah parameter\n",
        "    print(nama)\n",
        "\n",
        "print_nama('Budi') # 'Budi' adalah argumen"
      ],
      "execution_count": null,
      "outputs": []
    },
    {
      "cell_type": "markdown",
      "metadata": {
        "id": "Gw8SAmx65CpG"
      },
      "source": [
        "###Argumen posisi dan kata kunci"
      ]
    },
    {
      "cell_type": "code",
      "metadata": {
        "colab": {
          "base_uri": "https://localhost:8080/"
        },
        "id": "xLTe9q505Sp5",
        "outputId": "bda85973-9903-40a0-c214-10101f43b137"
      },
      "source": [
        "def angka(a, b, c):\n",
        "    print(a, b, c)\n",
        "\n",
        "# argumen posisi\n",
        "# argumen berdasarkan posisinya\n",
        "angka(1, 2, 3)\n",
        "\n",
        "# argumen berdasarkan kata kuncinya\n",
        "angka(a=1, b=2, c=3)\n",
        "angka(c=3, b=2, a=1)\n",
        "# Catatan: jika sudah diberi kunci maka urutan tidak menjadi penting\n",
        "\n",
        "# campuran antara argumen posisi dan argumen kata kunci\n",
        "angka (1, b=2, c=3)\n",
        "\n",
        "# Ini tidak diijinkan:\n",
        "# foo(1, b=2, 3) # argumen posisional setelah argumen kunci\n",
        "# foo(1, b=2, a=3) # terdapat dua nilai untuk argumen kunci 'a'"
      ],
      "execution_count": null,
      "outputs": [
        {
          "output_type": "stream",
          "name": "stdout",
          "text": [
            "1 2 3\n",
            "1 2 3\n",
            "1 2 3\n",
            "1 2 3\n"
          ]
        }
      ]
    },
    {
      "cell_type": "markdown",
      "metadata": {
        "id": "BkaiakzV6c9W"
      },
      "source": [
        "##Argumen Default"
      ]
    },
    {
      "cell_type": "code",
      "metadata": {
        "colab": {
          "base_uri": "https://localhost:8080/"
        },
        "id": "0uVfMbMS6ZDt",
        "outputId": "39fefaa6-5168-42f2-b0e2-fd8b701ccab3"
      },
      "source": [
        "# Argumen Default\n",
        "def angka2(a, b, c, d=4):\n",
        "    print(a, b, c, d)\n",
        "\n",
        "angka2(1, 2, 3, 4)\n",
        "angka2(1, b=2, c=3, d=100)\n",
        "\n",
        "# Argumen default harus diletakkan terakhir"
      ],
      "execution_count": null,
      "outputs": [
        {
          "output_type": "stream",
          "name": "stdout",
          "text": [
            "1 2 3 4\n",
            "1 2 3 100\n"
          ]
        }
      ]
    },
    {
      "cell_type": "markdown",
      "metadata": {
        "id": "xgglB9Mv7ScV"
      },
      "source": [
        "##Praktik Membuat Fungsi"
      ]
    },
    {
      "cell_type": "code",
      "metadata": {
        "colab": {
          "base_uri": "https://localhost:8080/"
        },
        "id": "9xeKAAJz67EM",
        "outputId": "c1358133-11bc-4f70-b45f-6ba051cb5b58"
      },
      "source": [
        "x = 1\n",
        "y = 2\n",
        "x*y"
      ],
      "execution_count": null,
      "outputs": [
        {
          "output_type": "execute_result",
          "data": {
            "text/plain": [
              "2"
            ]
          },
          "metadata": {},
          "execution_count": 3
        }
      ]
    },
    {
      "cell_type": "code",
      "metadata": {
        "colab": {
          "base_uri": "https://localhost:8080/"
        },
        "id": "4PwOnD0c7YPI",
        "outputId": "14464e7b-30ce-4ed4-946e-116c2877b8da"
      },
      "source": [
        "def penjumlahan(x,y): # input\n",
        "    a=x+y             # proses\n",
        "    return a          # output\n",
        "\n",
        "penjumlahan(1,2)      # menggunakan fungsi"
      ],
      "execution_count": null,
      "outputs": [
        {
          "output_type": "execute_result",
          "data": {
            "text/plain": [
              "3"
            ]
          },
          "metadata": {},
          "execution_count": 4
        }
      ]
    },
    {
      "cell_type": "markdown",
      "metadata": {
        "id": "jHPf4TuZ7vCA"
      },
      "source": [
        "##Penjumlahan yang memungkinkan untuk tiga bilangan"
      ]
    },
    {
      "cell_type": "code",
      "metadata": {
        "colab": {
          "base_uri": "https://localhost:8080/"
        },
        "id": "X3wHufoT7qOo",
        "outputId": "d73cd636-e7ab-40f2-9c27-5f8fdfdc4911"
      },
      "source": [
        "def penjumlahan(x,y,z=None):\n",
        "    if (z==None):\n",
        "        return x+y\n",
        "    else:\n",
        "        return x+y+z\n",
        "\n",
        "print(penjumlahan(1,2))\n",
        "print(penjumlahan(1,2,3))"
      ],
      "execution_count": null,
      "outputs": [
        {
          "output_type": "stream",
          "name": "stdout",
          "text": [
            "3\n",
            "6\n"
          ]
        }
      ]
    },
    {
      "cell_type": "markdown",
      "metadata": {
        "id": "AciqzHig8I3A"
      },
      "source": [
        "##Menyimpan hasil fungsi dalam variabel"
      ]
    },
    {
      "cell_type": "code",
      "metadata": {
        "colab": {
          "base_uri": "https://localhost:8080/"
        },
        "id": "ptCDZ6lb8Gi7",
        "outputId": "b0275484-edb6-42a3-acf9-c8ff04ecdb05"
      },
      "source": [
        "def penjumlahan(x,y):\n",
        "    return x+y\n",
        "a = penjumlahan\n",
        "a(1,2)"
      ],
      "execution_count": null,
      "outputs": [
        {
          "output_type": "execute_result",
          "data": {
            "text/plain": [
              "3"
            ]
          },
          "metadata": {},
          "execution_count": 6
        }
      ]
    },
    {
      "cell_type": "markdown",
      "metadata": {
        "id": "VvtttzWT8IXk"
      },
      "source": [
        "#Latihan 1\n",
        "Buatlah Function pythagoras dengan input argumennya panjang tinggi dan alas segitiga untuk menghasilkan output nilai panjang sisi miring."
      ]
    },
    {
      "cell_type": "code",
      "metadata": {
        "colab": {
          "base_uri": "https://localhost:8080/"
        },
        "id": "TSpAN6pa8YyK",
        "outputId": "92319095-0de6-4598-97cb-c892522a5b40"
      },
      "source": [
        "# x = alas, y = tinggi, z = sisi miring\n",
        "\n",
        "def pythagoras(x,y):\n",
        "    z = ((x**2)+(y**2))**(1/2)\n",
        "    return z\n",
        "pythagoras(3,4)"
      ],
      "execution_count": null,
      "outputs": [
        {
          "output_type": "execute_result",
          "data": {
            "text/plain": [
              "5.0"
            ]
          },
          "metadata": {},
          "execution_count": 7
        }
      ]
    },
    {
      "cell_type": "markdown",
      "metadata": {
        "id": "ZRkO6q8R8r-5"
      },
      "source": [
        "#Latihan 2\n",
        "Buatlah Function luas permukaan balok dengan input argumennya panjang, lebar, dan tinggi dari balok untuk menghasilkan output nilai luas permukaan balok tersebut."
      ]
    },
    {
      "cell_type": "code",
      "metadata": {
        "colab": {
          "base_uri": "https://localhost:8080/"
        },
        "id": "irQAMCAz8-gY",
        "outputId": "7f3286ba-c2cb-43d4-f992-798da2c678e9"
      },
      "source": [
        "# p = panjang, l = lebar, t = tinggi\n",
        "\n",
        "def luas_permukaan_balok(p,l,t):\n",
        "    lp = 2*((p*l)+(p*t)+(l*t))\n",
        "    return lp\n",
        "luas_permukaan_balok(3,4,5)"
      ],
      "execution_count": null,
      "outputs": [
        {
          "output_type": "execute_result",
          "data": {
            "text/plain": [
              "94"
            ]
          },
          "metadata": {},
          "execution_count": 8
        }
      ]
    },
    {
      "cell_type": "markdown",
      "source": [
        "##Lambda"
      ],
      "metadata": {
        "id": "pGjU6WuUICFg"
      }
    },
    {
      "cell_type": "code",
      "source": [
        "def square_sum(x,y):\n",
        "  return x**2 + y**2"
      ],
      "metadata": {
        "id": "UDSh2oJRIlKu"
      },
      "execution_count": null,
      "outputs": []
    },
    {
      "cell_type": "markdown",
      "source": [
        "dengan lambda kita tidak perlu menggunakan def dan return, bahkan kita juga tidak perlu menuliskan namanya."
      ],
      "metadata": {
        "id": "hRWG0vvmIpcJ"
      }
    },
    {
      "cell_type": "code",
      "source": [
        "lambda x,y : x**2 + y**2"
      ],
      "metadata": {
        "colab": {
          "base_uri": "https://localhost:8080/"
        },
        "id": "Qjzi38AjIwPk",
        "outputId": "5782ea06-cb12-45af-b975-d45a6db2b2b5"
      },
      "execution_count": 14,
      "outputs": [
        {
          "output_type": "execute_result",
          "data": {
            "text/plain": [
              "<function __main__.<lambda>(x, y)>"
            ]
          },
          "metadata": {},
          "execution_count": 14
        }
      ]
    },
    {
      "cell_type": "markdown",
      "source": [
        "##Menggunakan Lambda Expression"
      ],
      "metadata": {
        "id": "Y8B3vQJzI1Ao"
      }
    },
    {
      "cell_type": "markdown",
      "source": [
        "Lambda bisa memiliki lebih dari satu argumen atau parameter, tapi hanya bisa memiliki satu ekspresi atau isi."
      ],
      "metadata": {
        "id": "6T2GtOe6I9T-"
      }
    },
    {
      "cell_type": "code",
      "source": [
        "greeting = lambda name: print(f\"Hello, {name}\")"
      ],
      "metadata": {
        "id": "VHTh3rBJI_Qa"
      },
      "execution_count": 2,
      "outputs": []
    },
    {
      "cell_type": "markdown",
      "source": [
        "Karena fungsi lambda tidak punya nama, jadi kita butuh variabel untuk menyimpannya."
      ],
      "metadata": {
        "id": "T02CsEHRJDTy"
      }
    },
    {
      "cell_type": "code",
      "source": [
        "greeting(\"Dian\")\n",
        "greeting(\"Ayu\")"
      ],
      "metadata": {
        "colab": {
          "base_uri": "https://localhost:8080/"
        },
        "id": "V66eLDALJJR8",
        "outputId": "92f3ef7e-d049-4979-c4a3-8e1cdc130705"
      },
      "execution_count": 3,
      "outputs": [
        {
          "output_type": "stream",
          "name": "stdout",
          "text": [
            "Hello, Dian\n",
            "Hello, Ayu\n"
          ]
        }
      ]
    },
    {
      "cell_type": "code",
      "source": [
        "# Fungsi Lambda untuk menambahkan angka 10 kepada argument input\n",
        "f = lambda x: x+10\n",
        "val1 = f(5)\n",
        "val2 = f(100)\n",
        "print(val1,val2)\n",
        "print(val1+val2)"
      ],
      "metadata": {
        "colab": {
          "base_uri": "https://localhost:8080/"
        },
        "id": "c9-BXlMiJS-H",
        "outputId": "1103c844-0f32-4e29-d683-6b5381069b40"
      },
      "execution_count": 4,
      "outputs": [
        {
          "output_type": "stream",
          "name": "stdout",
          "text": [
            "15 110\n",
            "125\n"
          ]
        }
      ]
    },
    {
      "cell_type": "code",
      "source": [
        "# Fungsi Lambda untuk mengalikan dua argumen input dan menampilkan hasilnya\n",
        "f = lambda x,y: x*y\n",
        "val3 = f(2,10)\n",
        "val4 = f(7,5)\n",
        "print(val3,val4)\n",
        "print(val3+val4)\n"
      ],
      "metadata": {
        "colab": {
          "base_uri": "https://localhost:8080/"
        },
        "id": "uWxPdxZNJXqT",
        "outputId": "c60d9588-c310-4b6b-a7d1-7354d5a75aaf"
      },
      "execution_count": 5,
      "outputs": [
        {
          "output_type": "stream",
          "name": "stdout",
          "text": [
            "20 35\n",
            "55\n"
          ]
        }
      ]
    },
    {
      "cell_type": "markdown",
      "source": [
        "##Anonymous Function"
      ],
      "metadata": {
        "id": "zwy80IRoJcDT"
      }
    },
    {
      "cell_type": "markdown",
      "source": [
        "Karena Lambda adalah anonymous function, ia akan bebas menggunakan nama apa saja. Dengan kata lain, fungsi lambda bisa disimpan di variabel mana pun. Ini tentunya tidak bisa dilakukan oleh fungsi yang dibuat dengan def. Coba perhatikan ini:"
      ],
      "metadata": {
        "id": "YLh8mJVwJf_U"
      }
    },
    {
      "cell_type": "code",
      "source": [
        "def say_hello(nama):\n",
        "  print(f\"Hello {nama}, apa kabar?\")\n",
        "\n",
        "ucapin = say_hello(nama)"
      ],
      "metadata": {
        "colab": {
          "base_uri": "https://localhost:8080/",
          "height": 200
        },
        "id": "7t1ytl8AJbAC",
        "outputId": "b6d2fed7-50b8-4c99-8ad1-66c8f4de5f79"
      },
      "execution_count": 13,
      "outputs": [
        {
          "output_type": "error",
          "ename": "NameError",
          "evalue": "ignored",
          "traceback": [
            "\u001b[0;31m---------------------------------------------------------------------------\u001b[0m",
            "\u001b[0;31mNameError\u001b[0m                                 Traceback (most recent call last)",
            "\u001b[0;32m<ipython-input-13-71af2e88b3b4>\u001b[0m in \u001b[0;36m<cell line: 4>\u001b[0;34m()\u001b[0m\n\u001b[1;32m      2\u001b[0m   \u001b[0mprint\u001b[0m\u001b[0;34m(\u001b[0m\u001b[0;34mf\"Hello {nama}, apa kabar?\"\u001b[0m\u001b[0;34m)\u001b[0m\u001b[0;34m\u001b[0m\u001b[0;34m\u001b[0m\u001b[0m\n\u001b[1;32m      3\u001b[0m \u001b[0;34m\u001b[0m\u001b[0m\n\u001b[0;32m----> 4\u001b[0;31m \u001b[0mucapin\u001b[0m \u001b[0;34m=\u001b[0m \u001b[0msay_hello\u001b[0m\u001b[0;34m(\u001b[0m\u001b[0mnama\u001b[0m\u001b[0;34m)\u001b[0m\u001b[0;34m\u001b[0m\u001b[0;34m\u001b[0m\u001b[0m\n\u001b[0m",
            "\u001b[0;31mNameError\u001b[0m: name 'nama' is not defined"
          ]
        }
      ]
    },
    {
      "cell_type": "markdown",
      "source": [
        "Saya mencoba membuat fungsi say_hello() dengan def, kemudian menyimpannya ke dalam variabel ucapin. Tapi malah error!\n",
        "\n",
        "Ini karena fungsi tersebut bukanlah fungsi anonymous yang boleh diubah-ubah namanya.\n",
        "\n",
        "Lalu coba perhatikan di baris terakhir, fungsi lambda greeting() yang sudah dibuat disimpan lagi ke variabel yang berbeda, yakni sapa."
      ],
      "metadata": {
        "id": "wQMC1tVPJs4B"
      }
    },
    {
      "cell_type": "code",
      "source": [
        "greeting = lambda name: print(f\"Hello, {name}\")\n",
        "sapa = greeting\n",
        "greeting(\"Andi\")\n",
        "sapa(\"Neli\")"
      ],
      "metadata": {
        "colab": {
          "base_uri": "https://localhost:8080/"
        },
        "id": "MbohWq_FJw2v",
        "outputId": "eb003e3a-2cd4-43ed-ef80-f443e93e2e0c"
      },
      "execution_count": 6,
      "outputs": [
        {
          "output_type": "stream",
          "name": "stdout",
          "text": [
            "Hello, Andi\n",
            "Hello, Neli\n"
          ]
        }
      ]
    },
    {
      "cell_type": "markdown",
      "source": [
        "hasilnya tidak error, karena ini adalah fungsi anonymous atau lambda."
      ],
      "metadata": {
        "id": "qKiwIr98KJPA"
      }
    },
    {
      "cell_type": "markdown",
      "source": [
        "##Eksekusi Lambda secara langsung\n",
        "\n",
        "Kelebihan fungsi lambda dibandingkan def adalah bisa kita eksekusi langsung."
      ],
      "metadata": {
        "id": "gkuUnv-YKOHy"
      }
    },
    {
      "cell_type": "code",
      "source": [
        "(lambda x,y: x**2 + y**2)(4,6)"
      ],
      "metadata": {
        "colab": {
          "base_uri": "https://localhost:8080/"
        },
        "id": "6aDCZnDpKRtG",
        "outputId": "b27eb0a4-9c3f-4ccc-9790-08d214870ae0"
      },
      "execution_count": 7,
      "outputs": [
        {
          "output_type": "execute_result",
          "data": {
            "text/plain": [
              "52"
            ]
          },
          "metadata": {},
          "execution_count": 7
        }
      ]
    },
    {
      "cell_type": "code",
      "source": [
        "hasil = (lambda x,y: x**2 + y**2)(4,6)\n",
        "hasil"
      ],
      "metadata": {
        "colab": {
          "base_uri": "https://localhost:8080/"
        },
        "id": "Z1YPk1VHKWcR",
        "outputId": "046b611d-0c0c-49b5-cdd6-42c7eb4c1735"
      },
      "execution_count": 8,
      "outputs": [
        {
          "output_type": "execute_result",
          "data": {
            "text/plain": [
              "52"
            ]
          },
          "metadata": {},
          "execution_count": 8
        }
      ]
    },
    {
      "cell_type": "markdown",
      "source": [
        "##Mengapa harus pakai Lambda?"
      ],
      "metadata": {
        "id": "iSpzeRV-LP3e"
      }
    },
    {
      "cell_type": "code",
      "source": [
        "bilangan = [10,2,8,7,5,4,3,11,0,1]\n",
        "filtered_result = map (lambda x: x*x, bilangan)\n",
        "print(list(filtered_result))"
      ],
      "metadata": {
        "colab": {
          "base_uri": "https://localhost:8080/"
        },
        "id": "lUup1p1yLSnj",
        "outputId": "319f4071-c86e-47ee-c3d8-16cb1ae70016"
      },
      "execution_count": 9,
      "outputs": [
        {
          "output_type": "stream",
          "name": "stdout",
          "text": [
            "[100, 4, 64, 49, 25, 16, 9, 121, 0, 1]\n"
          ]
        }
      ]
    },
    {
      "cell_type": "code",
      "source": [
        "# menentukan bilangan genap\n",
        "genap = lambda x: x%2 == 0\n",
        "list(filter(genap, range(11)))"
      ],
      "metadata": {
        "colab": {
          "base_uri": "https://localhost:8080/"
        },
        "id": "wTZYUJyHLUmc",
        "outputId": "39f0b5af-dee4-41df-e2a1-a00d728e3ffa"
      },
      "execution_count": 10,
      "outputs": [
        {
          "output_type": "execute_result",
          "data": {
            "text/plain": [
              "[0, 2, 4, 6, 8, 10]"
            ]
          },
          "metadata": {},
          "execution_count": 10
        }
      ]
    },
    {
      "cell_type": "markdown",
      "source": [
        "#Latihan"
      ],
      "metadata": {
        "id": "RxslPcc1LYdu"
      }
    },
    {
      "cell_type": "markdown",
      "source": [
        "\n",
        "\n",
        "1.   Buatlah fungsi lambda untuk menghitung luas dari persegi panjang\n",
        "\n",
        "\n",
        "*   Input berupa variabel p dan 1\n",
        "*   Fungsi lambda disimpan dalam variabel `Luas_Persegi_Panjang`\n",
        "*   Jika fungsi lambda dijalankan akan menghasilkan output \"Luas persegi panjang anda *luasnya* Cm\"\n",
        "\n",
        "\n",
        "\n",
        "\n",
        "\n"
      ],
      "metadata": {
        "id": "RqOTX49YLeyw"
      }
    },
    {
      "cell_type": "code",
      "source": [
        "Luas_Persegi_Panjang = (lambda p,l: p*l)(6,5)\n",
        "print(f\"Luas Persegi Panjang anda {Luas_Persegi_Panjang} Cm\")"
      ],
      "metadata": {
        "colab": {
          "base_uri": "https://localhost:8080/"
        },
        "id": "oRvw4PuRLhAL",
        "outputId": "f4179e96-6c94-4026-91a4-49918e80c5b7"
      },
      "execution_count": 11,
      "outputs": [
        {
          "output_type": "stream",
          "name": "stdout",
          "text": [
            "Luas Persegi Panjang anda 30 Cm\n"
          ]
        }
      ]
    },
    {
      "cell_type": "markdown",
      "source": [
        "2. Buatlah fungsi lambda untuk menghitung luas dari segitiga\n",
        "\n",
        "\n",
        "\n",
        "*   Input berupa variabel a dan t\n",
        "*   Fungsi lambda disimpan dalam variabel `Luas_Segitiga`\n",
        "*   Jika fungsi lambda dijalankan akan menghasilkan output \"Luas segitiga anda *(luasnya)* Cm\"\n",
        "\n",
        "\n",
        "\n"
      ],
      "metadata": {
        "id": "uHBWToM2Llj2"
      }
    },
    {
      "cell_type": "code",
      "source": [
        "Luas_Segitiga = (lambda a,t: (a*t)/2)(4,7)\n",
        "print(f\"Luas Segitiga anda {Luas_Segitiga} Cm\")"
      ],
      "metadata": {
        "colab": {
          "base_uri": "https://localhost:8080/"
        },
        "id": "WAMkFzcBLqH8",
        "outputId": "d93aab28-f092-4321-c2f1-7706ddfc2d8e"
      },
      "execution_count": 12,
      "outputs": [
        {
          "output_type": "stream",
          "name": "stdout",
          "text": [
            "Luas Segitiga anda 14.0 Cm\n"
          ]
        }
      ]
    }
  ]
}